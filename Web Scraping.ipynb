{
 "cells": [
  {
   "cell_type": "code",
   "execution_count": 1,
   "metadata": {},
   "outputs": [],
   "source": [
    "import pandas as pd"
   ]
  },
  {
   "cell_type": "code",
   "execution_count": 2,
   "metadata": {},
   "outputs": [],
   "source": [
    "pd.set_option('display.max_columns', None)"
   ]
  },
  {
   "cell_type": "code",
   "execution_count": 3,
   "metadata": {},
   "outputs": [],
   "source": [
    "years = [str(i) for i in range(2009, 2023)]"
   ]
  },
  {
   "cell_type": "code",
   "execution_count": 4,
   "metadata": {},
   "outputs": [
    {
     "name": "stdout",
     "output_type": "stream",
     "text": [
      "2009\n",
      "2010\n",
      "2011\n",
      "2012\n",
      "2013\n",
      "2014\n",
      "2015\n",
      "2016\n",
      "2017\n",
      "2018\n",
      "2019\n",
      "2020\n",
      "2021\n",
      "2022\n"
     ]
    }
   ],
   "source": [
    "for year in years:\n",
    "    print(year)\n",
    "    \n",
    "    # Scoring Statistics, keep rounds from this page as it most accurately reflects total rounds player completed in season.\n",
    "    scoring = pd.read_html('https://www.pgatour.com/stats/stat.120.y{}.html'.format(year))[1][['PLAYER NAME', 'ROUNDS', 'AVG']]\n",
    "    # Rename Columns\n",
    "    scoring = scoring.rename(columns={'AVG':'Scoring_Avg.'})\n",
    "    \n",
    "    # Driving Distance\n",
    "    driving_distance = pd.read_html('https://www.pgatour.com/stats/stat.101.y{}.html'.format(year))[1][['PLAYER NAME', 'AVG.']]\n",
    "    # Rename Columns\n",
    "    driving_distance = driving_distance.rename(columns={'AVG.':'Drive_Distance'})\n",
    "    \n",
    "    # Scrambling\n",
    "    scrambling = pd.read_html('https://www.pgatour.com/stats/stat.130.y{}.html'.format(year))[1][['PLAYER NAME', '%']]\n",
    "    # Rename Columns\n",
    "    scrambling = scrambling.rename(columns={'%':'Scrambling_%'})\n",
    "    \n",
    "    # SG: Tee To Green\n",
    "    sg_ttg = pd.read_html('https://www.pgatour.com/stats/stat.02674.y{}.html'.format(year))[1][['PLAYER NAME', 'AVERAGE']]\n",
    "    # Rename Columns\n",
    "    sg_ttg = sg_ttg.rename(columns={'AVERAGE':'SG_TTG'})\n",
    "    \n",
    "    # SG: Off The Tee\n",
    "    sg_ott = pd.read_html('https://www.pgatour.com/stats/stat.02567.y{}.html'.format(year))[1][['PLAYER NAME', 'AVERAGE']]\n",
    "    # Rename Columns\n",
    "    sg_ott = sg_ott.rename(columns={'AVERAGE':'SG_OTT'})\n",
    "    \n",
    "    # SG: Approach Shots\n",
    "    sg_app = pd.read_html('https://www.pgatour.com/stats/stat.02568.y{}.html'.format(year))[1][['PLAYER NAME', 'AVERAGE']]\n",
    "    # Rename Columns\n",
    "    sg_app = sg_app.rename(columns={'AVERAGE':'SG_APP'})\n",
    "    \n",
    "    # SG: Around The Green\n",
    "    sg_atg = pd.read_html('https://www.pgatour.com/stats/stat.02569.y{}.html'.format(year))[1][['PLAYER NAME', 'AVERAGE']]\n",
    "    # Rename Columns\n",
    "    sg_atg = sg_atg.rename(columns={'AVERAGE':'SG_ATG'})\n",
    "    \n",
    "    # SG: Putting\n",
    "    sg_putt = pd.read_html('https://www.pgatour.com/stats/stat.02564.y{}.html'.format(year))[1][['PLAYER NAME', 'AVERAGE']]\n",
    "    # Rename Columns\n",
    "    sg_putt = sg_putt.rename(columns={'AVERAGE':'SG_PUTT'})\n",
    "    \n",
    "    # Driving Accuracy Percentage\n",
    "    driving_accuracy = pd.read_html('https://www.pgatour.com/stats/stat.102.y{}.html'.format(year))[1][['PLAYER NAME', '%']]\n",
    "    # Rename Columns\n",
    "    driving_accuracy = driving_accuracy.rename(columns={'%':'Drive_Accuracy'})\n",
    "    \n",
    "    # Club Head Speed\n",
    "    club_head_speed = pd.read_html('https://www.pgatour.com/stats/stat.02401.y{}.html'.format(year))[1][['PLAYER NAME', 'AVG.']]\n",
    "    # Rename Columns\n",
    "    club_head_speed = club_head_speed.rename(columns={'AVG.':'CHS (MPH)'})\n",
    "    \n",
    "    # Greens In Regulation Percentage\n",
    "    gir = pd.read_html('https://www.pgatour.com/stats/stat.103.y{}.html'.format(year))[1][['PLAYER NAME', '%']]\n",
    "    # Rename Columns\n",
    "    gir = gir.rename(columns={'%':'GIR_%'})\n",
    "    \n",
    "    # Going For The Green\n",
    "    gftg = pd.read_html('https://www.pgatour.com/stats/stat.419.y{}.html'.format(year))[1][['PLAYER NAME', '%']]\n",
    "    # Rename Columns\n",
    "    gftg = gftg.rename(columns={'%':'GFTG_%'})\n",
    "    \n",
    "    # One-Putt Percentage\n",
    "    opp = pd.read_html('https://www.pgatour.com/stats/stat.413.y{}.html'.format(year))[1][['PLAYER NAME', '%']]\n",
    "    # Rename Columns\n",
    "    opp = opp.rename(columns={'%':'One_Putt_%'})\n",
    "    \n",
    "    # Putting - Inside 10'\n",
    "    p_inside10 = pd.read_html('https://www.pgatour.com/stats/stat.484.y{}.html'.format(year))[1][['PLAYER NAME', '% MADE']]\n",
    "    # Rename Columns\n",
    "    p_inside10 = p_inside10.rename(columns={'% MADE':'Inside_10ft_%'})\n",
    "    \n",
    "    # 3-Putt Percentage\n",
    "    three_putt_avoid = pd.read_html('https://www.pgatour.com/stats/stat.426.y{}.html'.format(year))[1][['PLAYER NAME', '%']]\n",
    "    # Rename Columns\n",
    "    three_putt_avoid = three_putt_avoid.rename(columns={'%':'3_Putt_%'})\n",
    "    \n",
    "    # Par 3 Scoring Average\n",
    "    par_3 = pd.read_html('https://www.pgatour.com/stats/stat.142.y{}.html'.format(year))[1][['PLAYER NAME', 'AVG']]\n",
    "    # Rename Columns\n",
    "    par_3 = par_3.rename(columns={'AVG':'Par_3_Avg.'})\n",
    "    \n",
    "    # Par 4 Scoring Average\n",
    "    par_4 = pd.read_html('https://www.pgatour.com/stats/stat.143.y{}.html'.format(year))[1][['PLAYER NAME', 'AVG']]\n",
    "    # Rename Columns\n",
    "    par_4 = par_4.rename(columns={'AVG':'Par_4_Avg.'})\n",
    "    \n",
    "    # Par 5 Scoring Average\n",
    "    par_5 = pd.read_html('https://www.pgatour.com/stats/stat.144.y{}.html'.format(year))[1][['PLAYER NAME', 'AVG']]\n",
    "    # Rename Columns\n",
    "    par_5 = par_5.rename(columns={'AVG':'Par_5_Avg.'})\n",
    "    \n",
    "    # Get Dataframes into list\n",
    "    data_frames = [driving_distance, \n",
    "                   scrambling, \n",
    "                   sg_ttg, \n",
    "                   sg_ott, \n",
    "                   sg_app, \n",
    "                   sg_atg, \n",
    "                   sg_putt, \n",
    "                   driving_accuracy, \n",
    "                   club_head_speed, \n",
    "                   gir, \n",
    "                   gftg, \n",
    "                   opp, \n",
    "                   p_inside10, \n",
    "                   three_putt_avoid, \n",
    "                   par_3, \n",
    "                   par_4, \n",
    "                   par_5]\n",
    "    \n",
    "    # Merge all Dataframes together\n",
    "    df_merged = pd.DataFrame()\n",
    "    df_merged = scoring\n",
    "    for df in data_frames:\n",
    "        df_merged = pd.merge(df_merged, df, on='PLAYER NAME')\n",
    "        \n",
    "    # Only get players who's scoring average isn't null\n",
    "    df_merged = df_merged.loc[df_merged['Scoring_Avg.'].isnull() == False]\n",
    "    \n",
    "    # Add year column\n",
    "    df_merged['Year'] = year\n",
    "    \n",
    "    # Concatenate dataframe to overall dataframe\n",
    "    if year == '2009':\n",
    "        df_total = pd.DataFrame()\n",
    "        df_total = pd.concat([df_total, df_merged], axis=0)\n",
    "    else:\n",
    "        df_total = pd.concat([df_total, df_merged], axis=0)"
   ]
  },
  {
   "cell_type": "code",
   "execution_count": 5,
   "metadata": {},
   "outputs": [
    {
     "ename": "KeyError",
     "evalue": "\"['Unnamed: 0'] not found in axis\"",
     "output_type": "error",
     "traceback": [
      "\u001b[0;31m---------------------------------------------------------------------------\u001b[0m",
      "\u001b[0;31mKeyError\u001b[0m                                  Traceback (most recent call last)",
      "\u001b[0;32m<ipython-input-5-087d614cf467>\u001b[0m in \u001b[0;36m<module>\u001b[0;34m\u001b[0m\n\u001b[0;32m----> 1\u001b[0;31m \u001b[0mdf_total\u001b[0m \u001b[0;34m=\u001b[0m \u001b[0mdf_total\u001b[0m\u001b[0;34m.\u001b[0m\u001b[0mdrop\u001b[0m\u001b[0;34m(\u001b[0m\u001b[0mcolumns\u001b[0m\u001b[0;34m=\u001b[0m\u001b[0;34m'Unnamed: 0'\u001b[0m\u001b[0;34m)\u001b[0m\u001b[0;34m\u001b[0m\u001b[0;34m\u001b[0m\u001b[0m\n\u001b[0m\u001b[1;32m      2\u001b[0m \u001b[0mdf_total\u001b[0m\u001b[0;34m\u001b[0m\u001b[0;34m\u001b[0m\u001b[0m\n",
      "\u001b[0;32m/opt/anaconda3/envs/learn-env/lib/python3.8/site-packages/pandas/core/frame.py\u001b[0m in \u001b[0;36mdrop\u001b[0;34m(self, labels, axis, index, columns, level, inplace, errors)\u001b[0m\n\u001b[1;32m   4161\u001b[0m                 \u001b[0mweight\u001b[0m  \u001b[0;36m1.0\u001b[0m     \u001b[0;36m0.8\u001b[0m\u001b[0;34m\u001b[0m\u001b[0;34m\u001b[0m\u001b[0m\n\u001b[1;32m   4162\u001b[0m         \"\"\"\n\u001b[0;32m-> 4163\u001b[0;31m         return super().drop(\n\u001b[0m\u001b[1;32m   4164\u001b[0m             \u001b[0mlabels\u001b[0m\u001b[0;34m=\u001b[0m\u001b[0mlabels\u001b[0m\u001b[0;34m,\u001b[0m\u001b[0;34m\u001b[0m\u001b[0;34m\u001b[0m\u001b[0m\n\u001b[1;32m   4165\u001b[0m             \u001b[0maxis\u001b[0m\u001b[0;34m=\u001b[0m\u001b[0maxis\u001b[0m\u001b[0;34m,\u001b[0m\u001b[0;34m\u001b[0m\u001b[0;34m\u001b[0m\u001b[0m\n",
      "\u001b[0;32m/opt/anaconda3/envs/learn-env/lib/python3.8/site-packages/pandas/core/generic.py\u001b[0m in \u001b[0;36mdrop\u001b[0;34m(self, labels, axis, index, columns, level, inplace, errors)\u001b[0m\n\u001b[1;32m   3885\u001b[0m         \u001b[0;32mfor\u001b[0m \u001b[0maxis\u001b[0m\u001b[0;34m,\u001b[0m \u001b[0mlabels\u001b[0m \u001b[0;32min\u001b[0m \u001b[0maxes\u001b[0m\u001b[0;34m.\u001b[0m\u001b[0mitems\u001b[0m\u001b[0;34m(\u001b[0m\u001b[0;34m)\u001b[0m\u001b[0;34m:\u001b[0m\u001b[0;34m\u001b[0m\u001b[0;34m\u001b[0m\u001b[0m\n\u001b[1;32m   3886\u001b[0m             \u001b[0;32mif\u001b[0m \u001b[0mlabels\u001b[0m \u001b[0;32mis\u001b[0m \u001b[0;32mnot\u001b[0m \u001b[0;32mNone\u001b[0m\u001b[0;34m:\u001b[0m\u001b[0;34m\u001b[0m\u001b[0;34m\u001b[0m\u001b[0m\n\u001b[0;32m-> 3887\u001b[0;31m                 \u001b[0mobj\u001b[0m \u001b[0;34m=\u001b[0m \u001b[0mobj\u001b[0m\u001b[0;34m.\u001b[0m\u001b[0m_drop_axis\u001b[0m\u001b[0;34m(\u001b[0m\u001b[0mlabels\u001b[0m\u001b[0;34m,\u001b[0m \u001b[0maxis\u001b[0m\u001b[0;34m,\u001b[0m \u001b[0mlevel\u001b[0m\u001b[0;34m=\u001b[0m\u001b[0mlevel\u001b[0m\u001b[0;34m,\u001b[0m \u001b[0merrors\u001b[0m\u001b[0;34m=\u001b[0m\u001b[0merrors\u001b[0m\u001b[0;34m)\u001b[0m\u001b[0;34m\u001b[0m\u001b[0;34m\u001b[0m\u001b[0m\n\u001b[0m\u001b[1;32m   3888\u001b[0m \u001b[0;34m\u001b[0m\u001b[0m\n\u001b[1;32m   3889\u001b[0m         \u001b[0;32mif\u001b[0m \u001b[0minplace\u001b[0m\u001b[0;34m:\u001b[0m\u001b[0;34m\u001b[0m\u001b[0;34m\u001b[0m\u001b[0m\n",
      "\u001b[0;32m/opt/anaconda3/envs/learn-env/lib/python3.8/site-packages/pandas/core/generic.py\u001b[0m in \u001b[0;36m_drop_axis\u001b[0;34m(self, labels, axis, level, errors)\u001b[0m\n\u001b[1;32m   3919\u001b[0m                 \u001b[0mnew_axis\u001b[0m \u001b[0;34m=\u001b[0m \u001b[0maxis\u001b[0m\u001b[0;34m.\u001b[0m\u001b[0mdrop\u001b[0m\u001b[0;34m(\u001b[0m\u001b[0mlabels\u001b[0m\u001b[0;34m,\u001b[0m \u001b[0mlevel\u001b[0m\u001b[0;34m=\u001b[0m\u001b[0mlevel\u001b[0m\u001b[0;34m,\u001b[0m \u001b[0merrors\u001b[0m\u001b[0;34m=\u001b[0m\u001b[0merrors\u001b[0m\u001b[0;34m)\u001b[0m\u001b[0;34m\u001b[0m\u001b[0;34m\u001b[0m\u001b[0m\n\u001b[1;32m   3920\u001b[0m             \u001b[0;32melse\u001b[0m\u001b[0;34m:\u001b[0m\u001b[0;34m\u001b[0m\u001b[0;34m\u001b[0m\u001b[0m\n\u001b[0;32m-> 3921\u001b[0;31m                 \u001b[0mnew_axis\u001b[0m \u001b[0;34m=\u001b[0m \u001b[0maxis\u001b[0m\u001b[0;34m.\u001b[0m\u001b[0mdrop\u001b[0m\u001b[0;34m(\u001b[0m\u001b[0mlabels\u001b[0m\u001b[0;34m,\u001b[0m \u001b[0merrors\u001b[0m\u001b[0;34m=\u001b[0m\u001b[0merrors\u001b[0m\u001b[0;34m)\u001b[0m\u001b[0;34m\u001b[0m\u001b[0;34m\u001b[0m\u001b[0m\n\u001b[0m\u001b[1;32m   3922\u001b[0m             \u001b[0mresult\u001b[0m \u001b[0;34m=\u001b[0m \u001b[0mself\u001b[0m\u001b[0;34m.\u001b[0m\u001b[0mreindex\u001b[0m\u001b[0;34m(\u001b[0m\u001b[0;34m**\u001b[0m\u001b[0;34m{\u001b[0m\u001b[0maxis_name\u001b[0m\u001b[0;34m:\u001b[0m \u001b[0mnew_axis\u001b[0m\u001b[0;34m}\u001b[0m\u001b[0;34m)\u001b[0m\u001b[0;34m\u001b[0m\u001b[0;34m\u001b[0m\u001b[0m\n\u001b[1;32m   3923\u001b[0m \u001b[0;34m\u001b[0m\u001b[0m\n",
      "\u001b[0;32m/opt/anaconda3/envs/learn-env/lib/python3.8/site-packages/pandas/core/indexes/base.py\u001b[0m in \u001b[0;36mdrop\u001b[0;34m(self, labels, errors)\u001b[0m\n\u001b[1;32m   5280\u001b[0m         \u001b[0;32mif\u001b[0m \u001b[0mmask\u001b[0m\u001b[0;34m.\u001b[0m\u001b[0many\u001b[0m\u001b[0;34m(\u001b[0m\u001b[0;34m)\u001b[0m\u001b[0;34m:\u001b[0m\u001b[0;34m\u001b[0m\u001b[0;34m\u001b[0m\u001b[0m\n\u001b[1;32m   5281\u001b[0m             \u001b[0;32mif\u001b[0m \u001b[0merrors\u001b[0m \u001b[0;34m!=\u001b[0m \u001b[0;34m\"ignore\"\u001b[0m\u001b[0;34m:\u001b[0m\u001b[0;34m\u001b[0m\u001b[0;34m\u001b[0m\u001b[0m\n\u001b[0;32m-> 5282\u001b[0;31m                 \u001b[0;32mraise\u001b[0m \u001b[0mKeyError\u001b[0m\u001b[0;34m(\u001b[0m\u001b[0;34mf\"{labels[mask]} not found in axis\"\u001b[0m\u001b[0;34m)\u001b[0m\u001b[0;34m\u001b[0m\u001b[0;34m\u001b[0m\u001b[0m\n\u001b[0m\u001b[1;32m   5283\u001b[0m             \u001b[0mindexer\u001b[0m \u001b[0;34m=\u001b[0m \u001b[0mindexer\u001b[0m\u001b[0;34m[\u001b[0m\u001b[0;34m~\u001b[0m\u001b[0mmask\u001b[0m\u001b[0;34m]\u001b[0m\u001b[0;34m\u001b[0m\u001b[0;34m\u001b[0m\u001b[0m\n\u001b[1;32m   5284\u001b[0m         \u001b[0;32mreturn\u001b[0m \u001b[0mself\u001b[0m\u001b[0;34m.\u001b[0m\u001b[0mdelete\u001b[0m\u001b[0;34m(\u001b[0m\u001b[0mindexer\u001b[0m\u001b[0;34m)\u001b[0m\u001b[0;34m\u001b[0m\u001b[0;34m\u001b[0m\u001b[0m\n",
      "\u001b[0;31mKeyError\u001b[0m: \"['Unnamed: 0'] not found in axis\""
     ]
    }
   ],
   "source": [
    "df_total = df_total.drop(columns='Unnamed: 0')\n",
    "df_total"
   ]
  },
  {
   "cell_type": "code",
   "execution_count": null,
   "metadata": {},
   "outputs": [],
   "source": [
    "df_total.to_csv('data/PGA_TOUR_Stats.csv')"
   ]
  }
 ],
 "metadata": {
  "kernelspec": {
   "display_name": "Python (learn-env)",
   "language": "python",
   "name": "learn-env"
  },
  "language_info": {
   "codemirror_mode": {
    "name": "ipython",
    "version": 3
   },
   "file_extension": ".py",
   "mimetype": "text/x-python",
   "name": "python",
   "nbconvert_exporter": "python",
   "pygments_lexer": "ipython3",
   "version": "3.8.5"
  }
 },
 "nbformat": 4,
 "nbformat_minor": 4
}
